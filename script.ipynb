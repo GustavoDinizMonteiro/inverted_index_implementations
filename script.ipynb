{
 "cells": [
  {
   "cell_type": "code",
   "execution_count": 1,
   "metadata": {},
   "outputs": [],
   "source": [
    "from common import *\n",
    "\n",
    "# importing dependencies and load data.\n",
    "data = load_data_from_cvs(\"estadao_news.csv\")"
   ]
  },
  {
   "cell_type": "code",
   "execution_count": 2,
   "metadata": {},
   "outputs": [],
   "source": [
    "# joyning column of title of artile with column of content.\n",
    "data['articles'] = data['titulo']  + ' ' + data['conteudo']"
   ]
  },
  {
   "cell_type": "code",
   "execution_count": 3,
   "metadata": {},
   "outputs": [],
   "source": [
    "# normalizing and tokenizing articles.\n",
    "data['articles'] = data['articles'].apply(normalize)\n",
    "data['tokens'] = data['articles'].apply(tokenize)"
   ]
  },
  {
   "cell_type": "code",
   "execution_count": 4,
   "metadata": {},
   "outputs": [],
   "source": [
    "# applying summarization to articles to produce inverted index.\n",
    "inverted_index = summarize(data['tokens'], data['idNoticia'])"
   ]
  },
  {
   "cell_type": "code",
   "execution_count": 5,
   "metadata": {},
   "outputs": [],
   "source": [
    "# Tests by assertion.\n",
    "inverted_index.get('lula')\n",
    "\n",
    "assert len(search(inverted_index, \"debate OR presidencial\")) == 1770\n",
    "assert len(search(inverted_index, \"debate AND presidencial\")) == 201\n",
    "\n",
    "assert len(search(inverted_index, \"presidenciáveis OR corruptos\")) == 164\n",
    "assert len(search(inverted_index, \"presidenciáveis AND corruptos\")) == 0\n",
    "\n",
    "assert len(search(inverted_index, \"Belo OR Horizonte\")) == 331\n",
    "assert len(search(inverted_index, \"Belo AND Horizonte\")) == 242"
   ]
  }
 ],
 "metadata": {
  "kernelspec": {
   "display_name": "Python 3",
   "language": "python",
   "name": "python3"
  },
  "language_info": {
   "codemirror_mode": {
    "name": "ipython",
    "version": 3
   },
   "file_extension": ".py",
   "mimetype": "text/x-python",
   "name": "python",
   "nbconvert_exporter": "python",
   "pygments_lexer": "ipython3",
   "version": "3.5.2"
  }
 },
 "nbformat": 4,
 "nbformat_minor": 2
}
