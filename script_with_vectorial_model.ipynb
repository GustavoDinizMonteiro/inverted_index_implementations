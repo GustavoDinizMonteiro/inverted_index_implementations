{
 "cells": [
  {
   "cell_type": "code",
   "execution_count": 1,
   "metadata": {},
   "outputs": [],
   "source": [
    "from common import *\n",
    "\n",
    "# importing dependencies and load data.\n",
    "data = load_data_from_cvs(\"estadao_noticias_eleicao.csv\")"
   ]
  },
  {
   "cell_type": "code",
   "execution_count": 2,
   "metadata": {},
   "outputs": [],
   "source": [
    "data = data.fillna('')"
   ]
  },
  {
   "cell_type": "code",
   "execution_count": 3,
   "metadata": {},
   "outputs": [],
   "source": [
    "# joyning column of title and sub-title of artile with column of content.\n",
    "data['articles'] = data['titulo']  + ' ' + data['subTitulo'] + ' ' + data['conteudo']"
   ]
  },
  {
   "cell_type": "code",
   "execution_count": 4,
   "metadata": {},
   "outputs": [],
   "source": [
    "# normalizing and tokenizing articles.\n",
    "data['articles'] = data['articles'].apply(normalize)\n",
    "data['tokens'] = data['articles'].apply(tokenize)"
   ]
  },
  {
   "cell_type": "code",
   "execution_count": 5,
   "metadata": {},
   "outputs": [],
   "source": [
    "# applying summarization to articles to produce inverted index.\n",
    "inverted_index = summarize(data['tokens'], data['idNoticia'])"
   ]
  },
  {
   "cell_type": "code",
   "execution_count": 6,
   "metadata": {},
   "outputs": [],
   "source": [
    "binary_result = search_with_vectorial_model('segundo turno', inverted_index)"
   ]
  },
  {
   "cell_type": "code",
   "execution_count": 7,
   "metadata": {},
   "outputs": [],
   "source": [
    "tf_result = search_with_tf('segundo turno', inverted_index)"
   ]
  },
  {
   "cell_type": "code",
   "execution_count": 8,
   "metadata": {},
   "outputs": [],
   "source": [
    "tfidf_result = search_with_tf_idf('segundo turno', inverted_index)"
   ]
  },
  {
   "cell_type": "code",
   "execution_count": 9,
   "metadata": {},
   "outputs": [],
   "source": [
    "bm25_result = search_with_bm25('segundo turno', inverted_index)"
   ]
  },
  {
   "cell_type": "code",
   "execution_count": 10,
   "metadata": {},
   "outputs": [],
   "source": [
    "import numpy as np\n",
    "\n",
    "def apk(actual, predicted, k=10):\n",
    "    \"\"\"\n",
    "    Computes the average precision at k.\n",
    "    This function computes the average prescision at k between two lists of\n",
    "    items.\n",
    "    Parameters\n",
    "    ----------\n",
    "    actual : list\n",
    "             A list of elements that are to be predicted (order doesn't matter)\n",
    "    predicted : list\n",
    "                A list of predicted elements (order does matter)\n",
    "    k : int, optional\n",
    "        The maximum number of predicted elements\n",
    "    Returns\n",
    "    -------\n",
    "    score : double\n",
    "            The average precision at k over the input lists\n",
    "    \"\"\"\n",
    "    if len(predicted)>k:\n",
    "        predicted = predicted[:k]\n",
    "\n",
    "    score = 0.0\n",
    "    num_hits = 0.0\n",
    "\n",
    "    for i,p in enumerate(predicted):\n",
    "        if p in actual and p not in predicted[:i]:\n",
    "            num_hits += 1.0\n",
    "            score += num_hits / (i+1.0)\n",
    "\n",
    "    if not actual:\n",
    "        return 0.0\n",
    "\n",
    "    return score / min(len(actual), k)\n",
    "\n",
    "def mapk(actual, predicted, k=10):\n",
    "    \"\"\"\n",
    "    Computes the mean average precision at k.\n",
    "    This function computes the mean average prescision at k between two lists\n",
    "    of lists of items.\n",
    "    Parameters\n",
    "    ----------\n",
    "    actual : list\n",
    "             A list of lists of elements that are to be predicted \n",
    "             (order doesn't matter in the lists)\n",
    "    predicted : list\n",
    "                A list of lists of predicted elements\n",
    "                (order matters in the lists)\n",
    "    k : int, optional\n",
    "        The maximum number of predicted elements\n",
    "    Returns\n",
    "    -------\n",
    "    score : double\n",
    "            The mean average precision at k over the input lists\n",
    "    \"\"\"\n",
    "    return np.mean([apk(a,p,k) for a,p in zip(actual, predicted)])"
   ]
  },
  {
   "cell_type": "code",
   "execution_count": 11,
   "metadata": {},
   "outputs": [],
   "source": [
    "# Para pesquisa anterior, foram comparados os resultados obtidos pelo meu algoritmo \n",
    "# e o gabarito contendo resultados do google.\n",
    "# Foram usados os algoritmos de busca binária classica, busca usado tf e tf/idf e também usando o algoritmo bm25.\n",
    "# Essas funções foram implementadas no arquivo 'commom.py' dispponiveis no mesmo diretório de notebook \n",
    "# a fim de deixar o script mais cofado em demonstrar a execução e a comparação das respostas com o gabarito do google."
   ]
  },
  {
   "cell_type": "code",
   "execution_count": 12,
   "metadata": {},
   "outputs": [
    {
     "name": "stdout",
     "output_type": "stream",
     "text": [
      "Precisão para consulta 'segundo turno' usando busca binaria 20.00%\n",
      "Precisão para consulta 'segundo turno' usando busca binaria 80.00%\n",
      "Precisão para consulta 'segundo turno' usando busca binaria 48.33%\n",
      "Precisão para consulta 'segundo turno' usando busca binaria 45.33%\n"
     ]
    }
   ],
   "source": [
    "import pandas\n",
    "import ast\n",
    "\n",
    "gabarito = pandas.read_csv('gabarito.csv')\n",
    "\n",
    "to_array = lambda text: ast.literal_eval(text)\n",
    "\n",
    "# parsing string to array\n",
    "gabarito.busca_binaria = gabarito.busca_binaria.apply(to_array)\n",
    "gabarito.tf = gabarito.tf.apply(to_array)\n",
    "gabarito.tfidf = gabarito.tfidf.apply(to_array)\n",
    "gabarito.bm25 = gabarito.bm25.apply(to_array)\n",
    "\n",
    "\n",
    "# create a dataframe with results\n",
    "suaresposta = {'str_busca': 'segundo turno', 'busca_binaria': [binary_result], 'tf': [tf_result],\n",
    "              'tfidf': [tfidf_result], 'bm25': [bm25_result]}\n",
    "suaresposta = pandas.DataFrame(data=suaresposta)\n",
    "\n",
    "\n",
    "print(\"Precisão para consulta 'segundo turno' usando busca binaria %.2f%%\" % (100 * mapk(gabarito.busca_binaria, suaresposta.busca_binaria, k=5)))\n",
    "\n",
    "print(\"Precisão para consulta 'segundo turno' usando busca binaria %.2f%%\" % (100 * mapk(gabarito.tf, suaresposta.tf, k=5)))\n",
    "\n",
    "print(\"Precisão para consulta 'segundo turno' usando busca binaria %.2f%%\" % (100 * mapk(gabarito.tfidf, suaresposta.tfidf, k=5)))\n",
    "\n",
    "print(\"Precisão para consulta 'segundo turno' usando busca binaria %.2f%%\" % (100 * mapk(gabarito.bm25, suaresposta.bm25, k=5)))"
   ]
  },
  {
   "cell_type": "code",
   "execution_count": 13,
   "metadata": {},
   "outputs": [],
   "source": [
    "# Os resultados das comparações acima mostram que o modelo binario comum se mostra muito simples \n",
    "# e por isso não consegue ser muito preciso.\n",
    "\n",
    "# As funções que usam tf e idf ganham mais precisão por levarem em conta mais fatores e por \n",
    "# tentar driblar o problema das stop words no caso da função com tf/idf. Curiosamente, para o\n",
    "# caso da busca por 'segundo turno' no index o uso de idf fez com que a precisão diminuisce\n",
    "# se comparado ao gabarito.\n",
    "\n",
    "# Já para o caso da busca usando o algoritmo bm25, vê-se que a precisão melhora muito, o resultado\n",
    "# mostrado usa um valor de K = 5 para formula do bm25, que embora esteja foram do range de 1,2--2\n",
    "# que é o range recomendado se mostrou o valor mais preciso para testes impiricos feitos durante o desenvolvimento."
   ]
  }
 ],
 "metadata": {
  "kernelspec": {
   "display_name": "Python 3",
   "language": "python",
   "name": "python3"
  },
  "language_info": {
   "codemirror_mode": {
    "name": "ipython",
    "version": 3
   },
   "file_extension": ".py",
   "mimetype": "text/x-python",
   "name": "python",
   "nbconvert_exporter": "python",
   "pygments_lexer": "ipython3",
   "version": "3.5.2"
  }
 },
 "nbformat": 4,
 "nbformat_minor": 2
}
